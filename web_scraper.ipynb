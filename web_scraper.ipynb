{
 "cells": [
  {
   "cell_type": "code",
   "execution_count": 3,
   "metadata": {},
   "outputs": [],
   "source": [
    "import pandas as pd\n",
    "import requests as rq"
   ]
  },
  {
   "cell_type": "code",
   "execution_count": 21,
   "metadata": {},
   "outputs": [],
   "source": [
    "url = 'https://nuforc.org/webreports/ndxe202210.html'"
   ]
  },
  {
   "cell_type": "code",
   "execution_count": 22,
   "metadata": {},
   "outputs": [],
   "source": [
    "page =rq.get(url)"
   ]
  },
  {
   "cell_type": "code",
   "execution_count": 70,
   "metadata": {},
   "outputs": [],
   "source": [
    "dfs = pd.read_html(page.text, parse_dates=True)\n",
    "df = dfs[0]"
   ]
  },
  {
   "cell_type": "code",
   "execution_count": 75,
   "metadata": {},
   "outputs": [
    {
     "data": {
      "text/html": [
       "<div>\n",
       "<style scoped>\n",
       "    .dataframe tbody tr th:only-of-type {\n",
       "        vertical-align: middle;\n",
       "    }\n",
       "\n",
       "    .dataframe tbody tr th {\n",
       "        vertical-align: top;\n",
       "    }\n",
       "\n",
       "    .dataframe thead th {\n",
       "        text-align: right;\n",
       "    }\n",
       "</style>\n",
       "<table border=\"1\" class=\"dataframe\">\n",
       "  <thead>\n",
       "    <tr style=\"text-align: right;\">\n",
       "      <th></th>\n",
       "      <th>Date / Time</th>\n",
       "      <th>City</th>\n",
       "      <th>State</th>\n",
       "      <th>Country</th>\n",
       "      <th>Shape</th>\n",
       "      <th>Duration</th>\n",
       "      <th>Summary</th>\n",
       "      <th>Posted</th>\n",
       "      <th>Images</th>\n",
       "    </tr>\n",
       "  </thead>\n",
       "  <tbody>\n",
       "    <tr>\n",
       "      <th>0</th>\n",
       "      <td>10/8/22 21:00</td>\n",
       "      <td>wauchula and myakka city</td>\n",
       "      <td>FL</td>\n",
       "      <td>USA</td>\n",
       "      <td>Changing</td>\n",
       "      <td>two months</td>\n",
       "      <td>Nightly Sightings of UAPs blatantly in your f...</td>\n",
       "      <td>10/8/22</td>\n",
       "      <td>Yes</td>\n",
       "    </tr>\n",
       "    <tr>\n",
       "      <th>1</th>\n",
       "      <td>10/8/22 19:00</td>\n",
       "      <td>NaN</td>\n",
       "      <td>NaN</td>\n",
       "      <td>USA</td>\n",
       "      <td>Disk</td>\n",
       "      <td>NaN</td>\n",
       "      <td>My son, wife and myself saw a portion of a sau...</td>\n",
       "      <td>10/8/22</td>\n",
       "      <td>NaN</td>\n",
       "    </tr>\n",
       "    <tr>\n",
       "      <th>2</th>\n",
       "      <td>10/7/22 21:50</td>\n",
       "      <td>Brcko</td>\n",
       "      <td>Brcko District</td>\n",
       "      <td>Bosnia and Herzegovina</td>\n",
       "      <td>Diamond</td>\n",
       "      <td>For about half hour.</td>\n",
       "      <td>Half circle trail with rainbow color bright dot.</td>\n",
       "      <td>10/8/22</td>\n",
       "      <td>Yes</td>\n",
       "    </tr>\n",
       "    <tr>\n",
       "      <th>3</th>\n",
       "      <td>10/7/22 19:50</td>\n",
       "      <td>Bealeton</td>\n",
       "      <td>VA</td>\n",
       "      <td>USA</td>\n",
       "      <td>Fireball</td>\n",
       "      <td>One minute</td>\n",
       "      <td>I saw a fireball swirling around in the sky li...</td>\n",
       "      <td>10/8/22</td>\n",
       "      <td>NaN</td>\n",
       "    </tr>\n",
       "    <tr>\n",
       "      <th>4</th>\n",
       "      <td>10/7/22 16:05</td>\n",
       "      <td>Melbourne</td>\n",
       "      <td>FL</td>\n",
       "      <td>USA</td>\n",
       "      <td>Sphere</td>\n",
       "      <td>25 seconds</td>\n",
       "      <td>Saw a small dark round object in western sky</td>\n",
       "      <td>10/8/22</td>\n",
       "      <td>NaN</td>\n",
       "    </tr>\n",
       "    <tr>\n",
       "      <th>...</th>\n",
       "      <td>...</td>\n",
       "      <td>...</td>\n",
       "      <td>...</td>\n",
       "      <td>...</td>\n",
       "      <td>...</td>\n",
       "      <td>...</td>\n",
       "      <td>...</td>\n",
       "      <td>...</td>\n",
       "      <td>...</td>\n",
       "    </tr>\n",
       "    <tr>\n",
       "      <th>57</th>\n",
       "      <td>10/1/22 15:34</td>\n",
       "      <td>Huntsville</td>\n",
       "      <td>AL</td>\n",
       "      <td>USA</td>\n",
       "      <td>Cigar</td>\n",
       "      <td>2 - 3 minutes</td>\n",
       "      <td>Cigar shaped with a bright circular light to t...</td>\n",
       "      <td>10/8/22</td>\n",
       "      <td>Yes</td>\n",
       "    </tr>\n",
       "    <tr>\n",
       "      <th>58</th>\n",
       "      <td>10/1/22 11:50</td>\n",
       "      <td>Gulf breeze</td>\n",
       "      <td>FL</td>\n",
       "      <td>USA</td>\n",
       "      <td>Circle</td>\n",
       "      <td>Seconds intermittent</td>\n",
       "      <td>This was circular and was blur...I've never se...</td>\n",
       "      <td>10/8/22</td>\n",
       "      <td>NaN</td>\n",
       "    </tr>\n",
       "    <tr>\n",
       "      <th>59</th>\n",
       "      <td>10/1/22 09:52</td>\n",
       "      <td>Redwood valley</td>\n",
       "      <td>CA</td>\n",
       "      <td>USA</td>\n",
       "      <td>Other</td>\n",
       "      <td>NaN</td>\n",
       "      <td>A very very large huge X flying in and out of ...</td>\n",
       "      <td>10/8/22</td>\n",
       "      <td>NaN</td>\n",
       "    </tr>\n",
       "    <tr>\n",
       "      <th>60</th>\n",
       "      <td>10/1/22 04:30</td>\n",
       "      <td>Bountiful</td>\n",
       "      <td>UT</td>\n",
       "      <td>USA</td>\n",
       "      <td>Light</td>\n",
       "      <td>45 seconds</td>\n",
       "      <td>deep above maybe outer space</td>\n",
       "      <td>10/8/22</td>\n",
       "      <td>NaN</td>\n",
       "    </tr>\n",
       "    <tr>\n",
       "      <th>61</th>\n",
       "      <td>10/1/22 03:05</td>\n",
       "      <td>Columbus</td>\n",
       "      <td>MS</td>\n",
       "      <td>USA</td>\n",
       "      <td>Light</td>\n",
       "      <td>~15 seconds to a minute</td>\n",
       "      <td>BRIGHT light panned like a spotlight in both w...</td>\n",
       "      <td>10/8/22</td>\n",
       "      <td>NaN</td>\n",
       "    </tr>\n",
       "  </tbody>\n",
       "</table>\n",
       "<p>62 rows × 9 columns</p>\n",
       "</div>"
      ],
      "text/plain": [
       "      Date / Time                      City           State  \\\n",
       "0   10/8/22 21:00  wauchula and myakka city              FL   \n",
       "1   10/8/22 19:00                       NaN             NaN   \n",
       "2   10/7/22 21:50                     Brcko  Brcko District   \n",
       "3   10/7/22 19:50                  Bealeton              VA   \n",
       "4   10/7/22 16:05                 Melbourne              FL   \n",
       "..            ...                       ...             ...   \n",
       "57  10/1/22 15:34                Huntsville              AL   \n",
       "58  10/1/22 11:50               Gulf breeze              FL   \n",
       "59  10/1/22 09:52            Redwood valley              CA   \n",
       "60  10/1/22 04:30                 Bountiful              UT   \n",
       "61  10/1/22 03:05                  Columbus              MS   \n",
       "\n",
       "                   Country     Shape                 Duration  \\\n",
       "0                      USA  Changing               two months   \n",
       "1                      USA      Disk                      NaN   \n",
       "2   Bosnia and Herzegovina   Diamond     For about half hour.   \n",
       "3                      USA  Fireball               One minute   \n",
       "4                      USA    Sphere               25 seconds   \n",
       "..                     ...       ...                      ...   \n",
       "57                     USA     Cigar            2 - 3 minutes   \n",
       "58                     USA    Circle     Seconds intermittent   \n",
       "59                     USA     Other                      NaN   \n",
       "60                     USA     Light               45 seconds   \n",
       "61                     USA     Light  ~15 seconds to a minute   \n",
       "\n",
       "                                              Summary   Posted Images  \n",
       "0   Nightly Sightings of UAPs blatantly in your f...  10/8/22    Yes  \n",
       "1   My son, wife and myself saw a portion of a sau...  10/8/22    NaN  \n",
       "2    Half circle trail with rainbow color bright dot.  10/8/22    Yes  \n",
       "3   I saw a fireball swirling around in the sky li...  10/8/22    NaN  \n",
       "4        Saw a small dark round object in western sky  10/8/22    NaN  \n",
       "..                                                ...      ...    ...  \n",
       "57  Cigar shaped with a bright circular light to t...  10/8/22    Yes  \n",
       "58  This was circular and was blur...I've never se...  10/8/22    NaN  \n",
       "59  A very very large huge X flying in and out of ...  10/8/22    NaN  \n",
       "60                       deep above maybe outer space  10/8/22    NaN  \n",
       "61  BRIGHT light panned like a spotlight in both w...  10/8/22    NaN  \n",
       "\n",
       "[62 rows x 9 columns]"
      ]
     },
     "execution_count": 75,
     "metadata": {},
     "output_type": "execute_result"
    }
   ],
   "source": [
    "df"
   ]
  },
  {
   "cell_type": "code",
   "execution_count": 49,
   "metadata": {},
   "outputs": [
    {
     "data": {
      "text/plain": [
       "'./ufo_data/202210.csv'"
      ]
     },
     "execution_count": 49,
     "metadata": {},
     "output_type": "execute_result"
    }
   ],
   "source": [
    "path = './ufo_data/'\n",
    "filename = path + url[-11: -5] + '.csv'\n",
    "filename"
   ]
  },
  {
   "cell_type": "code",
   "execution_count": 54,
   "metadata": {},
   "outputs": [],
   "source": [
    "df.to_csv(filename, index=False)"
   ]
  },
  {
   "cell_type": "code",
   "execution_count": 57,
   "metadata": {},
   "outputs": [],
   "source": [
    "dates_site = rq.get('https://nuforc.org/webreports/ndxevent.html')"
   ]
  },
  {
   "cell_type": "code",
   "execution_count": 78,
   "metadata": {},
   "outputs": [],
   "source": [
    "dates = pd.read_html(dates_site.text, parse_dates=True)[0]"
   ]
  },
  {
   "cell_type": "code",
   "execution_count": 97,
   "metadata": {},
   "outputs": [
    {
     "data": {
      "text/html": [
       "<div>\n",
       "<style scoped>\n",
       "    .dataframe tbody tr th:only-of-type {\n",
       "        vertical-align: middle;\n",
       "    }\n",
       "\n",
       "    .dataframe tbody tr th {\n",
       "        vertical-align: top;\n",
       "    }\n",
       "\n",
       "    .dataframe thead th {\n",
       "        text-align: right;\n",
       "    }\n",
       "</style>\n",
       "<table border=\"1\" class=\"dataframe\">\n",
       "  <thead>\n",
       "    <tr style=\"text-align: right;\">\n",
       "      <th></th>\n",
       "      <th>Reports</th>\n",
       "      <th>Count</th>\n",
       "    </tr>\n",
       "  </thead>\n",
       "  <tbody>\n",
       "    <tr>\n",
       "      <th>0</th>\n",
       "      <td>2022-10-01</td>\n",
       "      <td>62</td>\n",
       "    </tr>\n",
       "    <tr>\n",
       "      <th>1</th>\n",
       "      <td>2022-09-01</td>\n",
       "      <td>468</td>\n",
       "    </tr>\n",
       "    <tr>\n",
       "      <th>2</th>\n",
       "      <td>2022-08-01</td>\n",
       "      <td>486</td>\n",
       "    </tr>\n",
       "    <tr>\n",
       "      <th>3</th>\n",
       "      <td>2022-07-01</td>\n",
       "      <td>457</td>\n",
       "    </tr>\n",
       "    <tr>\n",
       "      <th>4</th>\n",
       "      <td>2022-06-01</td>\n",
       "      <td>405</td>\n",
       "    </tr>\n",
       "    <tr>\n",
       "      <th>...</th>\n",
       "      <td>...</td>\n",
       "      <td>...</td>\n",
       "    </tr>\n",
       "    <tr>\n",
       "      <th>966</th>\n",
       "      <td>1721-02-01</td>\n",
       "      <td>1</td>\n",
       "    </tr>\n",
       "    <tr>\n",
       "      <th>967</th>\n",
       "      <td>NaT</td>\n",
       "      <td>1</td>\n",
       "    </tr>\n",
       "    <tr>\n",
       "      <th>968</th>\n",
       "      <td>NaT</td>\n",
       "      <td>2</td>\n",
       "    </tr>\n",
       "    <tr>\n",
       "      <th>969</th>\n",
       "      <td>NaT</td>\n",
       "      <td>1</td>\n",
       "    </tr>\n",
       "    <tr>\n",
       "      <th>970</th>\n",
       "      <td>NaT</td>\n",
       "      <td>376</td>\n",
       "    </tr>\n",
       "  </tbody>\n",
       "</table>\n",
       "<p>971 rows × 2 columns</p>\n",
       "</div>"
      ],
      "text/plain": [
       "       Reports  Count\n",
       "0   2022-10-01     62\n",
       "1   2022-09-01    468\n",
       "2   2022-08-01    486\n",
       "3   2022-07-01    457\n",
       "4   2022-06-01    405\n",
       "..         ...    ...\n",
       "966 1721-02-01      1\n",
       "967        NaT      1\n",
       "968        NaT      2\n",
       "969        NaT      1\n",
       "970        NaT    376\n",
       "\n",
       "[971 rows x 2 columns]"
      ]
     },
     "execution_count": 97,
     "metadata": {},
     "output_type": "execute_result"
    }
   ],
   "source": [
    "dates"
   ]
  },
  {
   "cell_type": "code",
   "execution_count": 93,
   "metadata": {},
   "outputs": [],
   "source": [
    "# dates['Reports'] = dates['Reports'].astype(str)"
   ]
  },
  {
   "cell_type": "code",
   "execution_count": 98,
   "metadata": {},
   "outputs": [],
   "source": [
    "dates['Reports'] = pd.to_datetime(dates['Reports'], format='%m/%Y', errors='coerce')"
   ]
  },
  {
   "cell_type": "code",
   "execution_count": 99,
   "metadata": {},
   "outputs": [
    {
     "data": {
      "text/html": [
       "<div>\n",
       "<style scoped>\n",
       "    .dataframe tbody tr th:only-of-type {\n",
       "        vertical-align: middle;\n",
       "    }\n",
       "\n",
       "    .dataframe tbody tr th {\n",
       "        vertical-align: top;\n",
       "    }\n",
       "\n",
       "    .dataframe thead th {\n",
       "        text-align: right;\n",
       "    }\n",
       "</style>\n",
       "<table border=\"1\" class=\"dataframe\">\n",
       "  <thead>\n",
       "    <tr style=\"text-align: right;\">\n",
       "      <th></th>\n",
       "      <th>Reports</th>\n",
       "      <th>Count</th>\n",
       "    </tr>\n",
       "  </thead>\n",
       "  <tbody>\n",
       "    <tr>\n",
       "      <th>0</th>\n",
       "      <td>2022-10-01</td>\n",
       "      <td>62</td>\n",
       "    </tr>\n",
       "    <tr>\n",
       "      <th>1</th>\n",
       "      <td>2022-09-01</td>\n",
       "      <td>468</td>\n",
       "    </tr>\n",
       "    <tr>\n",
       "      <th>2</th>\n",
       "      <td>2022-08-01</td>\n",
       "      <td>486</td>\n",
       "    </tr>\n",
       "    <tr>\n",
       "      <th>3</th>\n",
       "      <td>2022-07-01</td>\n",
       "      <td>457</td>\n",
       "    </tr>\n",
       "    <tr>\n",
       "      <th>4</th>\n",
       "      <td>2022-06-01</td>\n",
       "      <td>405</td>\n",
       "    </tr>\n",
       "    <tr>\n",
       "      <th>...</th>\n",
       "      <td>...</td>\n",
       "      <td>...</td>\n",
       "    </tr>\n",
       "    <tr>\n",
       "      <th>966</th>\n",
       "      <td>1721-02-01</td>\n",
       "      <td>1</td>\n",
       "    </tr>\n",
       "    <tr>\n",
       "      <th>967</th>\n",
       "      <td>NaT</td>\n",
       "      <td>1</td>\n",
       "    </tr>\n",
       "    <tr>\n",
       "      <th>968</th>\n",
       "      <td>NaT</td>\n",
       "      <td>2</td>\n",
       "    </tr>\n",
       "    <tr>\n",
       "      <th>969</th>\n",
       "      <td>NaT</td>\n",
       "      <td>1</td>\n",
       "    </tr>\n",
       "    <tr>\n",
       "      <th>970</th>\n",
       "      <td>NaT</td>\n",
       "      <td>376</td>\n",
       "    </tr>\n",
       "  </tbody>\n",
       "</table>\n",
       "<p>971 rows × 2 columns</p>\n",
       "</div>"
      ],
      "text/plain": [
       "       Reports  Count\n",
       "0   2022-10-01     62\n",
       "1   2022-09-01    468\n",
       "2   2022-08-01    486\n",
       "3   2022-07-01    457\n",
       "4   2022-06-01    405\n",
       "..         ...    ...\n",
       "966 1721-02-01      1\n",
       "967        NaT      1\n",
       "968        NaT      2\n",
       "969        NaT      1\n",
       "970        NaT    376\n",
       "\n",
       "[971 rows x 2 columns]"
      ]
     },
     "execution_count": 99,
     "metadata": {},
     "output_type": "execute_result"
    }
   ],
   "source": [
    "dates"
   ]
  },
  {
   "cell_type": "code",
   "execution_count": 100,
   "metadata": {},
   "outputs": [],
   "source": [
    "new_dates = dates[dates['Reports'].notna()]"
   ]
  },
  {
   "cell_type": "code",
   "execution_count": 101,
   "metadata": {},
   "outputs": [],
   "source": [
    "new_dates = new_dates[new_dates['Reports'] > '2020-01-01']"
   ]
  },
  {
   "cell_type": "code",
   "execution_count": 107,
   "metadata": {},
   "outputs": [
    {
     "data": {
      "text/plain": [
       "13814"
      ]
     },
     "execution_count": 107,
     "metadata": {},
     "output_type": "execute_result"
    }
   ],
   "source": [
    "new_dates['Count'].sum()"
   ]
  },
  {
   "cell_type": "code",
   "execution_count": null,
   "metadata": {},
   "outputs": [],
   "source": []
  }
 ],
 "metadata": {
  "kernelspec": {
   "display_name": "Python 3.9.15 ('base')",
   "language": "python",
   "name": "python3"
  },
  "language_info": {
   "codemirror_mode": {
    "name": "ipython",
    "version": 3
   },
   "file_extension": ".py",
   "mimetype": "text/x-python",
   "name": "python",
   "nbconvert_exporter": "python",
   "pygments_lexer": "ipython3",
   "version": "3.9.15"
  },
  "orig_nbformat": 4,
  "vscode": {
   "interpreter": {
    "hash": "4b799a9a18dc30c90cc6e145df82b04531c3102e04f365d3b717687065194f59"
   }
  }
 },
 "nbformat": 4,
 "nbformat_minor": 2
}
